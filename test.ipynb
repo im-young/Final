{
 "cells": [
  {
   "cell_type": "code",
   "execution_count": 2,
   "metadata": {},
   "outputs": [
    {
     "ename": "FileNotFoundError",
     "evalue": "[WinError 3] 지정된 경로를 찾을 수 없습니다: '\\\\data\\\\data\\\\memory_test'",
     "output_type": "error",
     "traceback": [
      "\u001b[1;31m---------------------------------------------------------------------------\u001b[0m",
      "\u001b[1;31mFileNotFoundError\u001b[0m                         Traceback (most recent call last)",
      "Cell \u001b[1;32mIn[2], line 13\u001b[0m\n\u001b[0;32m     11\u001b[0m \u001b[39m# the C or js loader could do that but be explicit.\u001b[39;00m\n\u001b[0;32m     12\u001b[0m appdir \u001b[39m=\u001b[39m Path(\u001b[39mf\u001b[39m\u001b[39m\"\u001b[39m\u001b[39m/data/data/\u001b[39m\u001b[39m{\u001b[39;00mbundle\u001b[39m}\u001b[39;00m\u001b[39m\"\u001b[39m) \u001b[39m# /data/data/memory_test\u001b[39;00m\n\u001b[1;32m---> 13\u001b[0m appdir\u001b[39m.\u001b[39;49mmkdir()\n\u001b[0;32m     16\u001b[0m \u001b[39m# mount apk\u001b[39;00m\n\u001b[0;32m     18\u001b[0m cfg \u001b[39m=\u001b[39m {\n\u001b[0;32m     19\u001b[0m     \u001b[39m\"\u001b[39m\u001b[39mio\u001b[39m\u001b[39m\"\u001b[39m: \u001b[39m\"\u001b[39m\u001b[39murl\u001b[39m\u001b[39m\"\u001b[39m,\n\u001b[0;32m     20\u001b[0m     \u001b[39m\"\u001b[39m\u001b[39mtype\u001b[39m\u001b[39m\"\u001b[39m:\u001b[39m\"\u001b[39m\u001b[39mmount\u001b[39m\u001b[39m\"\u001b[39m,\n\u001b[1;32m   (...)\u001b[0m\n\u001b[0;32m     25\u001b[0m     \u001b[39m\"\u001b[39m\u001b[39mpath\u001b[39m\u001b[39m\"\u001b[39m : \u001b[39mf\u001b[39m\u001b[39m\"\u001b[39m\u001b[39m/ => \u001b[39m\u001b[39m{\u001b[39;00mappdir\u001b[39m.\u001b[39mas_posix()\u001b[39m}\u001b[39;00m\u001b[39m\"\u001b[39m,\n\u001b[0;32m     26\u001b[0m }\n",
      "File \u001b[1;32mc:\\Ananconda3\\lib\\pathlib.py:1323\u001b[0m, in \u001b[0;36mPath.mkdir\u001b[1;34m(self, mode, parents, exist_ok)\u001b[0m\n\u001b[0;32m   1319\u001b[0m \u001b[39m\"\"\"\u001b[39;00m\n\u001b[0;32m   1320\u001b[0m \u001b[39mCreate a new directory at this given path.\u001b[39;00m\n\u001b[0;32m   1321\u001b[0m \u001b[39m\"\"\"\u001b[39;00m\n\u001b[0;32m   1322\u001b[0m \u001b[39mtry\u001b[39;00m:\n\u001b[1;32m-> 1323\u001b[0m     \u001b[39mself\u001b[39;49m\u001b[39m.\u001b[39;49m_accessor\u001b[39m.\u001b[39;49mmkdir(\u001b[39mself\u001b[39;49m, mode)\n\u001b[0;32m   1324\u001b[0m \u001b[39mexcept\u001b[39;00m \u001b[39mFileNotFoundError\u001b[39;00m:\n\u001b[0;32m   1325\u001b[0m     \u001b[39mif\u001b[39;00m \u001b[39mnot\u001b[39;00m parents \u001b[39mor\u001b[39;00m \u001b[39mself\u001b[39m\u001b[39m.\u001b[39mparent \u001b[39m==\u001b[39m \u001b[39mself\u001b[39m:\n",
      "\u001b[1;31mFileNotFoundError\u001b[0m: [WinError 3] 지정된 경로를 찾을 수 없습니다: '\\\\data\\\\data\\\\memory_test'"
     ]
    }
   ],
   "source": [
    "import sys\n",
    "import asyncio\n",
    "import platform\n",
    "import json\n",
    "from pathlib import Path\n",
    "\n",
    "apk = 'memory_test.apk'\n",
    "\n",
    "bundle = \"memory_test\"\n",
    "\n",
    "# the C or js loader could do that but be explicit.\n",
    "appdir = Path(f\"/data/data/{bundle}\") # /data/data/memory_test\n",
    "appdir.mkdir()\n",
    "\n",
    "\n",
    "# mount apk\n",
    "\n",
    "cfg = {\n",
    "    \"io\": \"url\",\n",
    "    \"type\":\"mount\",\n",
    "    \"mount\" : {\n",
    "        \"point\" : appdir.as_posix(),\n",
    "        \"path\" : \"/\",\n",
    "    },\n",
    "    \"path\" : f\"/ => {appdir.as_posix()}\",\n",
    "}\n",
    "\n",
    "\n",
    "track = platform.window.MM.prepare(apk, json.dumps(cfg))\n"
   ]
  },
  {
   "cell_type": "code",
   "execution_count": null,
   "metadata": {},
   "outputs": [],
   "source": []
  }
 ],
 "metadata": {
  "kernelspec": {
   "display_name": "Python 3",
   "language": "python",
   "name": "python3"
  },
  "language_info": {
   "codemirror_mode": {
    "name": "ipython",
    "version": 3
   },
   "file_extension": ".py",
   "mimetype": "text/x-python",
   "name": "python",
   "nbconvert_exporter": "python",
   "pygments_lexer": "ipython3",
   "version": "3.9.7 (default, Sep 16 2021, 16:59:28) [MSC v.1916 64 bit (AMD64)]"
  },
  "orig_nbformat": 4,
  "vscode": {
   "interpreter": {
    "hash": "18dc3b8c9de875d2deb6bb5a63292e463d82282e7fe5d4de4b13c5fc18047171"
   }
  }
 },
 "nbformat": 4,
 "nbformat_minor": 2
}
