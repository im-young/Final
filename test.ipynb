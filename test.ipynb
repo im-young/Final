{
 "cells": [
  {
   "cell_type": "code",
   "execution_count": 4,
   "metadata": {},
   "outputs": [],
   "source": [
    "import time\n",
    "\n",
    "def find_users_sync(n):\n",
    "    for i in range(1, n + 1):\n",
    "        print(f'{n}명 중 {i}번 째 사용자 조회 중 ...')\n",
    "        time.sleep(1)\n",
    "    print(f'> 총 {n} 명 사용자 동기 조회 완료!')"
   ]
  },
  {
   "cell_type": "code",
   "execution_count": 5,
   "metadata": {},
   "outputs": [
    {
     "name": "stdout",
     "output_type": "stream",
     "text": [
      "3명 중 1번 째 사용자 조회 중 ...\n",
      "3명 중 2번 째 사용자 조회 중 ...\n",
      "3명 중 3번 째 사용자 조회 중 ...\n",
      "> 총 3 명 사용자 동기 조회 완료!\n",
      "2명 중 1번 째 사용자 조회 중 ...\n",
      "2명 중 2번 째 사용자 조회 중 ...\n",
      "> 총 2 명 사용자 동기 조회 완료!\n",
      "1명 중 1번 째 사용자 조회 중 ...\n",
      "> 총 1 명 사용자 동기 조회 완료!\n",
      ">>> 동기 처리 총 소요 시간: 6.060903310775757\n"
     ]
    }
   ],
   "source": [
    "def process_sync():\n",
    "    start = time.time()\n",
    "    find_users_sync(3)\n",
    "    find_users_sync(2)\n",
    "    find_users_sync(1)\n",
    "    end = time.time()\n",
    "    print(f'>>> 동기 처리 총 소요 시간: {end - start}')\n",
    "\n",
    "if __name__ == '__main__':\n",
    "    process_sync()"
   ]
  },
  {
   "cell_type": "code",
   "execution_count": 7,
   "metadata": {},
   "outputs": [
    {
     "name": "stdout",
     "output_type": "stream",
     "text": [
      "pygame 2.1.2 (SDL 2.0.18, Python 3.9.7)\n",
      "Hello from the pygame community. https://www.pygame.org/contribute.html\n",
      "arial\n",
      "arialblack\n",
      "bahnschrift\n",
      "calibri\n",
      "cambria\n",
      "cambriamath\n",
      "candara\n",
      "comicsansms\n",
      "consolas\n",
      "constantia\n",
      "corbel\n",
      "couriernew\n",
      "ebrima\n",
      "franklingothicmedium\n",
      "gabriola\n",
      "gadugi\n",
      "georgia\n",
      "holomdl2assets\n",
      "impact\n",
      "inkfree\n",
      "javanesetext\n",
      "leelawadeeui\n",
      "leelawadeeuisemilight\n",
      "lucidaconsole\n",
      "lucidasans\n",
      "malgungothic\n",
      "malgungothicsemilight\n",
      "microsofthimalaya\n",
      "microsoftjhenghei\n",
      "microsoftjhengheiui\n",
      "microsoftnewtailue\n",
      "microsoftphagspa\n",
      "microsoftsansserif\n",
      "microsofttaile\n",
      "microsoftyahei\n",
      "microsoftyaheiui\n",
      "microsoftyibaiti\n",
      "mingliuextb\n",
      "pmingliuextb\n",
      "mingliuhkscsextb\n",
      "mongolianbaiti\n",
      "msgothic\n",
      "msuigothic\n",
      "mspgothic\n",
      "mvboli\n",
      "myanmartext\n",
      "nirmalaui\n",
      "nirmalauisemilight\n",
      "palatinolinotype\n",
      "segoemdl2assets\n",
      "segoeprint\n",
      "segoescript\n",
      "segoeui\n",
      "segoeuiblack\n",
      "segoeuiemoji\n",
      "segoeuihistoric\n",
      "segoeuisemibold\n",
      "segoeuisemilight\n",
      "segoeuisymbol\n",
      "simsun\n",
      "nsimsun\n",
      "simsunextb\n",
      "sitkasmall\n",
      "sitkatext\n",
      "sitkasubheading\n",
      "sitkaheading\n",
      "sitkadisplay\n",
      "sitkabanner\n",
      "sylfaen\n",
      "symbol\n",
      "tahoma\n",
      "timesnewroman\n",
      "trebuchetms\n",
      "verdana\n",
      "webdings\n",
      "wingdings\n",
      "yugothic\n",
      "yugothicuisemibold\n",
      "yugothicui\n",
      "yugothicmedium\n",
      "yugothicuiregular\n",
      "yugothicregular\n",
      "yugothicuisemilight\n",
      "batang\n",
      "batangche\n",
      "gungsuh\n",
      "gungsuhche\n",
      "gulim\n",
      "gulimche\n",
      "dotum\n",
      "dotumche\n",
      "cascadiacoderegular\n",
      "cascadiamonoregular\n"
     ]
    }
   ],
   "source": [
    "import pygame\n",
    "\n",
    "for i in pygame.font.get_fonts():\n",
    "    print(i)"
   ]
  },
  {
   "cell_type": "code",
   "execution_count": null,
   "metadata": {},
   "outputs": [],
   "source": []
  }
 ],
 "metadata": {
  "kernelspec": {
   "display_name": "Python 3",
   "language": "python",
   "name": "python3"
  },
  "language_info": {
   "codemirror_mode": {
    "name": "ipython",
    "version": 3
   },
   "file_extension": ".py",
   "mimetype": "text/x-python",
   "name": "python",
   "nbconvert_exporter": "python",
   "pygments_lexer": "ipython3",
   "version": "3.9.7"
  },
  "orig_nbformat": 4,
  "vscode": {
   "interpreter": {
    "hash": "18dc3b8c9de875d2deb6bb5a63292e463d82282e7fe5d4de4b13c5fc18047171"
   }
  }
 },
 "nbformat": 4,
 "nbformat_minor": 2
}
